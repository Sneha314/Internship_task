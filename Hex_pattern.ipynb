{
  "nbformat": 4,
  "nbformat_minor": 0,
  "metadata": {
    "colab": {
      "provenance": [],
      "authorship_tag": "ABX9TyOCMf6ywaTFOyjavltICNDQ",
      "include_colab_link": true
    },
    "kernelspec": {
      "name": "python3",
      "display_name": "Python 3"
    },
    "language_info": {
      "name": "python"
    }
  },
  "cells": [
    {
      "cell_type": "markdown",
      "metadata": {
        "id": "view-in-github",
        "colab_type": "text"
      },
      "source": [
        "<a href=\"https://colab.research.google.com/github/Sneha314/Internship_task/blob/main/Hex_pattern.ipynb\" target=\"_parent\"><img src=\"https://colab.research.google.com/assets/colab-badge.svg\" alt=\"Open In Colab\"/></a>"
      ]
    },
    {
      "cell_type": "code",
      "source": [
        "def print_hexagon_grid(rows, cols):\n",
        "    for row in range(rows):\n",
        "\n",
        "        for col in range(cols):\n",
        "            print(\" --- \", end=\"\")\n",
        "        print()\n",
        "\n",
        "\n",
        "        for col in range(cols):\n",
        "            print(\"/   \\\\\", end=\"\")\n",
        "        print()\n",
        "\n",
        "\n",
        "        for col in range(cols) :\n",
        "            print(\"\\\\   /\", end=\"\")\n",
        "        print()\n",
        "\n",
        "\n",
        "print(\"inputs :- 4 7\")\n",
        "print_hexagon_grid(4, 7)\n",
        "\n",
        "print(\"inputs :- 3 5\")\n",
        "print_hexagon_grid(3, 5)"
      ],
      "metadata": {
        "colab": {
          "base_uri": "https://localhost:8080/"
        },
        "id": "xDgkenEJ93oS",
        "outputId": "88c2a678-d505-4d40-b080-5d8a2484ba0f"
      },
      "execution_count": 18,
      "outputs": [
        {
          "output_type": "stream",
          "name": "stdout",
          "text": [
            "inputs :- 4 7\n",
            " ---  ---  ---  ---  ---  ---  --- \n",
            "/   \\/   \\/   \\/   \\/   \\/   \\/   \\\n",
            "\\   /\\   /\\   /\\   /\\   /\\   /\\   /\n",
            " ---  ---  ---  ---  ---  ---  --- \n",
            "/   \\/   \\/   \\/   \\/   \\/   \\/   \\\n",
            "\\   /\\   /\\   /\\   /\\   /\\   /\\   /\n",
            " ---  ---  ---  ---  ---  ---  --- \n",
            "/   \\/   \\/   \\/   \\/   \\/   \\/   \\\n",
            "\\   /\\   /\\   /\\   /\\   /\\   /\\   /\n",
            " ---  ---  ---  ---  ---  ---  --- \n",
            "/   \\/   \\/   \\/   \\/   \\/   \\/   \\\n",
            "\\   /\\   /\\   /\\   /\\   /\\   /\\   /\n",
            "inputs :- 3 5\n",
            " ---  ---  ---  ---  --- \n",
            "/   \\/   \\/   \\/   \\/   \\\n",
            "\\   /\\   /\\   /\\   /\\   /\n",
            " ---  ---  ---  ---  --- \n",
            "/   \\/   \\/   \\/   \\/   \\\n",
            "\\   /\\   /\\   /\\   /\\   /\n",
            " ---  ---  ---  ---  --- \n",
            "/   \\/   \\/   \\/   \\/   \\\n",
            "\\   /\\   /\\   /\\   /\\   /\n"
          ]
        }
      ]
    }
  ]
}